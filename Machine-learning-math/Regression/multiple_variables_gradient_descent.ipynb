{
 "cells": [
  {
   "cell_type": "markdown",
   "metadata": {},
   "source": [
    "# 2 Problem Statement\n",
    "\n",
    "You will use the motivating example of housing price prediction. The training dataset contains three examples with four features (size, bedrooms, floors and, age) shown in the table below.  Note that, unlike the earlier labs, size is in sqft rather than 1000 sqft. This causes an issue, which you will solve in the next lab!\n",
    "\n",
    "| Size (sqft) | Number of Bedrooms  | Number of floors | Age of  Home | Price (1000s dollars)  |   \n",
    "| ----------------| ------------------- |----------------- |--------------|-------------- |  \n",
    "| 2104            | 5                   | 1                | 45           | 460           |  \n",
    "| 1416            | 3                   | 2                | 40           | 232           |  \n",
    "| 852             | 2                   | 1                | 35           | 178           |  \n",
    "\n",
    "You will build a linear regression model using these values so you can then predict the price for other houses. For example, a house with 1200 sqft, 3 bedrooms, 1 floor, 40 years old."
   ]
  },
  {
   "cell_type": "code",
   "execution_count": 62,
   "metadata": {},
   "outputs": [],
   "source": [
    "import numpy as np\n",
    "\n",
    "x_train = np.array([[2104, 5, 1, 45], [1416, 3, 2, 40], [852, 2, 1, 35]])\n",
    "\n",
    "y_train = np.array([460, 232, 178])\n"
   ]
  },
  {
   "cell_type": "code",
   "execution_count": 63,
   "metadata": {},
   "outputs": [],
   "source": [
    "def normalize(x):\n",
    "    return (x - np.min(x)) / (np.max(x) - np.min(x))"
   ]
  },
  {
   "cell_type": "code",
   "execution_count": 64,
   "metadata": {},
   "outputs": [],
   "source": [
    "import copy\n",
    "\n",
    "\n",
    "def gradient_descent(x, y, w_in, b_in, lrate = 0.1):\n",
    "\n",
    "  w = copy.deepcopy(w_in)\n",
    "  b = b_in\n",
    "\n",
    "  def y_hat (x): \n",
    "    return np.dot(w, x) + b\n",
    "\n",
    "  def dj_db(w, b):\n",
    "\n",
    "    m = len(y)\n",
    "\n",
    "    s = 0\n",
    "    for i in range(m):\n",
    "      s += y_hat(x[i]) - y[i]\n",
    "    return s/m\n",
    "\n",
    "\n",
    "  def dj_dw(w, b, j):\n",
    "\n",
    "    m = len(y)\n",
    "\n",
    "    s = 0\n",
    "    \n",
    "    for i in range(m):\n",
    "      s+= (y_hat(x[i]) - y[i]) * x[i][j]\n",
    "\n",
    "    return s/m\n",
    "\n",
    "\n",
    "  tries = 0\n",
    "\n",
    "  while (tries < 1e6):\n",
    "    params_amount = len(x[0])\n",
    "    \n",
    "    new_w = np.zeros(params_amount)\n",
    "\n",
    "    for j in range(params_amount):\n",
    "\n",
    "      new_w[j] = w[j] - lrate * dj_dw(w, b, j)\n",
    "\n",
    "    new_b = b - lrate * dj_db(w, b)\n",
    "\n",
    "    if( (new_w == w).all() and new_b == b):\n",
    "\n",
    "      return lambda x: np.dot(w, x) + b\n",
    "\n",
    "    w = new_w\n",
    "    b = new_b\n",
    "\n",
    "    tries += 1\n",
    "\n",
    "  return lambda x: np.dot(w, x) + b"
   ]
  },
  {
   "cell_type": "code",
   "execution_count": null,
   "metadata": {},
   "outputs": [],
   "source": [
    "y_hat = gradient_descent(normalize(x_train), normalize(y_train), np.zeros(4), 0, 0.1)"
   ]
  },
  {
   "cell_type": "code",
   "execution_count": 67,
   "metadata": {},
   "outputs": [
    {
     "name": "stdout",
     "output_type": "stream",
     "text": [
      "prediction of [1200    3    1   40]:  255.83016213649017\n"
     ]
    }
   ],
   "source": [
    "x_test = np.array([1200, 3, 1, 40])\n",
    "\n",
    "print(f'prediction of {x_test}:  {y_hat(normalize(x_test)) * (np.max(y_train) - np.min(y_train))}')"
   ]
  }
 ],
 "metadata": {
  "kernelspec": {
   "display_name": "Python 3",
   "language": "python",
   "name": "python3"
  },
  "language_info": {
   "codemirror_mode": {
    "name": "ipython",
    "version": 3
   },
   "file_extension": ".py",
   "mimetype": "text/x-python",
   "name": "python",
   "nbconvert_exporter": "python",
   "pygments_lexer": "ipython3",
   "version": "3.11.1"
  }
 },
 "nbformat": 4,
 "nbformat_minor": 2
}
