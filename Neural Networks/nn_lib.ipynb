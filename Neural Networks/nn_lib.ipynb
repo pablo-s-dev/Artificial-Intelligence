{
 "cells": [
  {
   "cell_type": "code",
   "execution_count": 1,
   "metadata": {},
   "outputs": [],
   "source": [
    "import numpy as np \n",
    "from typing import Literal\n",
    "import matplotlib.pyplot as plt"
   ]
  },
  {
   "cell_type": "code",
   "execution_count": 2,
   "metadata": {},
   "outputs": [],
   "source": [
    "class NN:\n",
    "\n",
    "    class Math:\n",
    "        \n",
    "        @classmethod\n",
    "        def _sigmoid(cls, Z: np.ndarray):\n",
    "            return 1/(1+np.exp(-Z)) \n",
    "\n",
    "        @classmethod\n",
    "        def _sigmoid_derivative(cls, Z: np.ndarray):\n",
    "            s = cls._sigmoid(Z)\n",
    "            return s * (1-s) \n",
    "\n",
    "        @classmethod\n",
    "        def _reLU_derivative(cls, Z: np.ndarray):\n",
    "            return (Z > 0).astype(float)\n",
    "        \n",
    "        @classmethod\n",
    "        def _reLU(cls, Z: np.ndarray):\n",
    "            return Z * (Z > 0)\n",
    "\n",
    "        activation_derivative_fun_by_str = {\n",
    "            \"sigmoid\": lambda Z: NN.Math._sigmoid_derivative(Z),\n",
    "            \"reLU\": lambda Z: NN.Math._reLU_derivative(Z)\n",
    "        }\n",
    "\n",
    "        activation_fun_by_str = {\n",
    "            \"sigmoid\": lambda Z: NN.Math._sigmoid(Z),\n",
    "            \"reLU\": lambda Z: NN.Math._reLU(Z)\n",
    "        }\n",
    "\n",
    "    class Layer:\n",
    "    \n",
    "        def __init__(self, neurons_amount: int, activation: Literal[\"sigmoid\", \"reLU\"], is_first: bool=False, show_log_cost: bool = False):\n",
    "\n",
    "            self.activation_fun = NN.Math.activation_fun_by_str[activation]\n",
    "            self.activation_derivative_fun = NN.Math.activation_derivative_fun_by_str[activation]\n",
    "            self.neurons_amount = neurons_amount\n",
    "            self.activation = activation\n",
    "            self.is_first = is_first\n",
    "\n",
    "        def init_params(self):\n",
    "            self.W = np.random.randn(self.input_amount, self.neurons_amount, )\n",
    "            self.B = np.zeros((1, self.neurons_amount))\n",
    "        \n",
    "        def activate(self, X: np.ndarray):\n",
    "\n",
    "            # shape: 1 x neurons_amount (row vector)\n",
    "\n",
    "            self.X = X\n",
    "\n",
    "            self.Z = self.X @ self.W  + self.B\n",
    "\n",
    "            self.activations = self.activation_fun(self.Z)     \n",
    "\n",
    "            return self.activations\n",
    "\n",
    "        def backward(self, DJ_DA: np.array, lr: float):\n",
    "\n",
    "            \"\"\"\n",
    "                @param: DJ_DA How much the activation of this layer affects the error. DJ_DA might be DJ_DX of the layer ahead (if any), since the activations are used as inputs for the layer ahead.\n",
    "                @param: lr Learning rate, the percentage of the gradient that we'll use to determine the step size for updating the parameters. Ex.: 0.1 as lr means we'll update in 10% of the gradient, but in reversed direction.\n",
    "            \"\"\"\n",
    "\n",
    "            DJ_DZ = DJ_DA * self.activation_derivative_fun(self.Z)\n",
    "\n",
    "            DJ_DW = (self.X.transpose(0, 2, 1) @ DJ_DZ )            \n",
    "\n",
    "            DJ_DX = DJ_DZ @ self.W.transpose(1, 0) if self.is_first == False else 0\n",
    "\n",
    "            self.W -=  lr *  np.mean(DJ_DW, axis=0)\n",
    "            self.B -=  lr *  np.mean(DJ_DZ, axis=0)\n",
    "\n",
    "            return DJ_DX\n",
    "        \n",
    "\n",
    "    def __init__(self, layers: list[Layer], input_amount: int, show_log_cost: bool = False):\n",
    "\n",
    "        self.input_amount = input_amount\n",
    "        self.show_log_cost = show_log_cost\n",
    "        self.cost_history = []\n",
    "\n",
    "        for i, layer in enumerate(layers):\n",
    "\n",
    "            layer_input_amount = layers[i-1].neurons_amount if i != 0 else self.input_amount\n",
    "\n",
    "            layer.input_amount = layer_input_amount\n",
    "            layer.init_params()\n",
    "            layer.is_first = i == 0\n",
    "\n",
    "        self.layers = layers\n",
    "\n",
    "    def add_layer(self, layer: Layer):\n",
    "\n",
    "        if len(self.layers) != 0:\n",
    "            layer_input_amount = self.layers[-1].neurons_amount\n",
    "            is_first = False\n",
    "        else:\n",
    "            layer_input_amount = self.input_amount\n",
    "            is_first = True\n",
    "\n",
    "            layer.input_amount = layer_input_amount\n",
    "            layer.init_params()\n",
    "        layer.is_first = is_first\n",
    "\n",
    "        self.layers.append(layer)\n",
    "\n",
    "    def forward_prop(self, input: np.ndarray):\n",
    "\n",
    "        activations: np.ndarray = input\n",
    "\n",
    "        for layer in self.layers:\n",
    "            \n",
    "            activations = layer.activate(activations)\n",
    "\n",
    "        return activations\n",
    "    \n",
    "    def train(self, X, Y, epochs: int = 100, optimizer = '', batch_percentage = 100, glr = 1, ):\n",
    "\n",
    "        y_hat = self.forward_prop(X)\n",
    "\n",
    "        L = len(self.layers)\n",
    "\n",
    "        for epoch in range(epochs):\n",
    "\n",
    "            DJ_DA = y_hat - Y\n",
    "\n",
    "            for i in reversed(range(L)):\n",
    "\n",
    "                layer = self.layers[i]\n",
    "                DJ_DA = layer.backward(DJ_DA, glr)\n",
    "\n",
    "            y_hat = self.forward_prop(X)\n",
    "\n",
    "            \n",
    "            if(self.show_log_cost):\n",
    "                cost = self.cost(y_hat, Y)\n",
    "                self.cost_history.append(cost)\n",
    "\n",
    "        return self.cost_history\n",
    "\n",
    "    def cost(self, y_hat, Y):\n",
    "\n",
    "        return (1/2) * np.mean((y_hat - Y)**2)\n",
    "    \n",
    "    def bin_predict(self, X):\n",
    "\n",
    "        return np.round(self.forward_prop(X)[0, 0])\n",
    "    \n",
    "    def predict(self, X):\n",
    "\n",
    "        return self.forward_prop(X)\n",
    "\n",
    "\n"
   ]
  },
  {
   "cell_type": "code",
   "execution_count": 3,
   "metadata": {},
   "outputs": [],
   "source": [
    "nn = NN(layers=[\n",
    "\n",
    "    NN.Layer(neurons_amount=3, activation='sigmoid',),\n",
    "    NN.Layer(neurons_amount=1, activation='sigmoid',),\n",
    "\n",
    "], input_amount=2, show_log_cost=True)"
   ]
  },
  {
   "cell_type": "code",
   "execution_count": 4,
   "metadata": {},
   "outputs": [],
   "source": [
    "X_train_1 = np.array([[0, 0]])\n",
    "X_train_2 = np.array([[0, 1]])\n",
    "X_train_3 = np.array([[1, 0]])\n",
    "X_train_4 = np.array([[1, 1]])\n",
    "\n",
    "X_train = np.array([X_train_1, X_train_2, X_train_3, X_train_4 ])\n",
    "\n",
    "Y = np.array([\n",
    "    [[0]],\n",
    "    [[1]],\n",
    "    [[1]],\n",
    "    [[0]]\n",
    "    ])\n",
    "\n",
    "cost_history = nn.train(X_train, Y, epochs=10000, glr=1)\n",
    "\n"
   ]
  },
  {
   "cell_type": "code",
   "execution_count": 5,
   "metadata": {},
   "outputs": [
    {
     "data": {
      "image/png": "[encoded data removed]",
      "text/plain": [
       "<Figure size 640x480 with 1 Axes>"
      ]
     },
     "metadata": {},
     "output_type": "display_data"
    }
   ],
   "source": [
    "epochs = np.arange(0, 10000)\n",
    "plt.xlabel(\"Epochs\")\n",
    "plt.ylabel(\"Cost\")\n",
    "plt.title(\"Cost vs epoch\")\n",
    "plt.plot(epochs, cost_history)\n",
    "plt.show()"
   ]
  },
  {
   "cell_type": "code",
   "execution_count": 7,
   "metadata": {},
   "outputs": [
    {
     "name": "stdout",
     "output_type": "stream",
     "text": [
      "XOR 00:  [[0.01240346]]\n",
      "XOR 01:  [[0.97542767]]\n",
      "XOR 10:  [[0.97602538]]\n",
      "XOR 11:  [[0.0358385]]\n"
     ]
    }
   ],
   "source": [
    "print(\"XOR 00: \", nn.predict(X_train_1))\n",
    "print(\"XOR 01: \", nn.predict(X_train_2))\n",
    "print(\"XOR 10: \", nn.predict(X_train_3))\n",
    "print(\"XOR 11: \", nn.predict(X_train_4))\n"
   ]
  },
  {
   "cell_type": "code",
   "execution_count": null,
   "metadata": {},
   "outputs": [
    {
     "name": "stdout",
     "output_type": "stream",
     "text": [
      "XOR 00:  0.0\n",
      "XOR 01:  1.0\n",
      "XOR 10:  1.0\n",
      "XOR 11:  0.0\n"
     ]
    }
   ],
   "source": [
    "print(\"XOR 00: \", nn.bin_predict(X_train_1))\n",
    "print(\"XOR 01: \", nn.bin_predict(X_train_2))\n",
    "print(\"XOR 10: \", nn.bin_predict(X_train_3))\n",
    "print(\"XOR 11: \", nn.bin_predict(X_train_4))\n",
    "\n"
   ]
  },
  {
   "cell_type": "markdown",
   "metadata": {},
   "source": []
  }
 ],
 "metadata": {
  "kernelspec": {
   "display_name": "Python 3",
   "language": "python",
   "name": "python3"
  },
  "language_info": {
   "codemirror_mode": {
    "name": "ipython",
    "version": 3
   },
   "file_extension": ".py",
   "mimetype": "text/x-python",
   "name": "python",
   "nbconvert_exporter": "python",
   "pygments_lexer": "ipython3",
   "version": "3.10.13"
  }
 },
 "nbformat": 4,
 "nbformat_minor": 2
}
